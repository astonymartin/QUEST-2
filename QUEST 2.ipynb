{
 "cells": [
  {
   "cell_type": "code",
   "execution_count": 1,
   "id": "83904bbc",
   "metadata": {},
   "outputs": [],
   "source": [
    "import pandas as pd\n",
    "import numpy as np\n",
    "df = pd.read_excel(\"GSAF5.xls\")\n",
    "dfcopy = df.copy()\n",
    "dfcopy.columns = dfcopy.columns.str.lower().str.replace(\" \", \"_\")"
   ]
  },
  {
   "cell_type": "code",
   "execution_count": 2,
   "id": "f19c6afa",
   "metadata": {},
   "outputs": [
    {
     "name": "stdout",
     "output_type": "stream",
     "text": [
      "<class 'pandas.core.frame.DataFrame'>\n",
      "RangeIndex: 6959 entries, 0 to 6958\n",
      "Data columns (total 23 columns):\n",
      " #   Column          Non-Null Count  Dtype  \n",
      "---  ------          --------------  -----  \n",
      " 0   date            6934 non-null   object \n",
      " 1   year            6932 non-null   float64\n",
      " 2   type            6916 non-null   object \n",
      " 3   country         6884 non-null   object \n",
      " 4   state           6452 non-null   object \n",
      " 5   location        6370 non-null   object \n",
      " 6   activity        6349 non-null   object \n",
      " 7   name            6715 non-null   object \n",
      " 8   sex             6355 non-null   object \n",
      " 9   age             3944 non-null   object \n",
      " 10  injury          6899 non-null   object \n",
      " 11  unnamed:_11     6373 non-null   object \n",
      " 12  time            3411 non-null   object \n",
      " 13  species_        3804 non-null   object \n",
      " 14  source          6915 non-null   object \n",
      " 15  pdf             6799 non-null   object \n",
      " 16  href_formula    6819 non-null   object \n",
      " 17  href            6796 non-null   object \n",
      " 18  case_number     6798 non-null   object \n",
      " 19  case_number.1   6797 non-null   object \n",
      " 20  original_order  6799 non-null   float64\n",
      " 21  unnamed:_21     1 non-null      object \n",
      " 22  unnamed:_22     2 non-null      object \n",
      "dtypes: float64(2), object(21)\n",
      "memory usage: 1.2+ MB\n"
     ]
    }
   ],
   "source": [
    "dfcopy.info()"
   ]
  },
  {
   "cell_type": "markdown",
   "id": "6e15330d",
   "metadata": {},
   "source": [
    "### ELIMINO COLUMNAS 21 Y 22 XQ ESTAN LLENAS DE NAN"
   ]
  },
  {
   "cell_type": "code",
   "execution_count": 3,
   "id": "736641f2",
   "metadata": {},
   "outputs": [],
   "source": [
    "dfcopy.drop(\"unnamed:_21\", axis=1, inplace=True)\n",
    "dfcopy.drop(\"unnamed:_22\", axis=1, inplace=True)"
   ]
  },
  {
   "cell_type": "code",
   "execution_count": 4,
   "id": "172733db",
   "metadata": {},
   "outputs": [
    {
     "name": "stdout",
     "output_type": "stream",
     "text": [
      "<class 'pandas.core.frame.DataFrame'>\n",
      "RangeIndex: 6959 entries, 0 to 6958\n",
      "Data columns (total 21 columns):\n",
      " #   Column          Non-Null Count  Dtype  \n",
      "---  ------          --------------  -----  \n",
      " 0   date            6934 non-null   object \n",
      " 1   year            6932 non-null   float64\n",
      " 2   type            6916 non-null   object \n",
      " 3   country         6884 non-null   object \n",
      " 4   state           6452 non-null   object \n",
      " 5   location        6370 non-null   object \n",
      " 6   activity        6349 non-null   object \n",
      " 7   name            6715 non-null   object \n",
      " 8   sex             6355 non-null   object \n",
      " 9   age             3944 non-null   object \n",
      " 10  injury          6899 non-null   object \n",
      " 11  unnamed:_11     6373 non-null   object \n",
      " 12  time            3411 non-null   object \n",
      " 13  species_        3804 non-null   object \n",
      " 14  source          6915 non-null   object \n",
      " 15  pdf             6799 non-null   object \n",
      " 16  href_formula    6819 non-null   object \n",
      " 17  href            6796 non-null   object \n",
      " 18  case_number     6798 non-null   object \n",
      " 19  case_number.1   6797 non-null   object \n",
      " 20  original_order  6799 non-null   float64\n",
      "dtypes: float64(2), object(19)\n",
      "memory usage: 1.1+ MB\n"
     ]
    }
   ],
   "source": [
    "dfcopy.info()"
   ]
  },
  {
   "cell_type": "markdown",
   "id": "e609b0bb",
   "metadata": {},
   "source": [
    "### CAMBIO \"NAN\" POR \"0\" Y EL TYPE DE \"FLOAT\" A \"INT\" EN YEAR"
   ]
  },
  {
   "cell_type": "code",
   "execution_count": 5,
   "id": "555ff0c6",
   "metadata": {},
   "outputs": [],
   "source": [
    "dfcopy[\"year\"].fillna(0, inplace=True)"
   ]
  },
  {
   "cell_type": "code",
   "execution_count": 6,
   "id": "c776a173",
   "metadata": {},
   "outputs": [],
   "source": [
    "dfcopy['year'] = dfcopy['year'].astype(int)"
   ]
  },
  {
   "cell_type": "markdown",
   "id": "1df02d68",
   "metadata": {},
   "source": [
    "### CAMBIO ?, NAN POR INVALID Y PASO A MINUSCULAS Y _ EN TYPE"
   ]
  },
  {
   "cell_type": "code",
   "execution_count": 7,
   "id": "87bf19e4",
   "metadata": {},
   "outputs": [],
   "source": [
    "dfcopy[\"type\"] = dfcopy[\"type\"].str.replace(\"?\", \"Invalid\")"
   ]
  },
  {
   "cell_type": "code",
   "execution_count": 8,
   "id": "c18abee5",
   "metadata": {},
   "outputs": [],
   "source": [
    "dfcopy[\"type\"].fillna(\"invalid\", inplace=True)"
   ]
  },
  {
   "cell_type": "code",
   "execution_count": 10,
   "id": "9a98a2a2",
   "metadata": {},
   "outputs": [],
   "source": [
    "dfcopy['type'] = dfcopy['type'].str.lower().str.replace(\" \", \"_\")"
   ]
  },
  {
   "cell_type": "code",
   "execution_count": 15,
   "id": "523fd022",
   "metadata": {},
   "outputs": [],
   "source": [
    "dfcopy[\"year\"].fillna(\"invalid\", inplace=True)"
   ]
  },
  {
   "cell_type": "markdown",
   "id": "ca146c19",
   "metadata": {},
   "source": [
    "### "
   ]
  },
  {
   "cell_type": "code",
   "execution_count": 13,
   "id": "84e3d379",
   "metadata": {},
   "outputs": [],
   "source": [
    "dfcopy['country'].fillna(\"no_country\", inplace=True)"
   ]
  },
  {
   "cell_type": "code",
   "execution_count": 16,
   "id": "13d1212c",
   "metadata": {},
   "outputs": [],
   "source": [
    "dfcopy['country'] = dfcopy['country'].str.lower().str.replace(\" \", \"_\")"
   ]
  },
  {
   "cell_type": "code",
   "execution_count": 18,
   "id": "2af76ebc",
   "metadata": {},
   "outputs": [
    {
     "data": {
      "text/plain": [
       "country\n",
       "usa                               2536\n",
       "australia                         1478\n",
       "south_africa                       598\n",
       "new_zealand                        145\n",
       "bahamas                            136\n",
       "                                  ... \n",
       "british_west_indies                  1\n",
       "admiralty_islands                    1\n",
       "federated_states_of_micronesia       1\n",
       "red_sea                              1\n",
       "ceylon_(sri_lanka)                   1\n",
       "Name: count, Length: 218, dtype: int64"
      ]
     },
     "execution_count": 18,
     "metadata": {},
     "output_type": "execute_result"
    }
   ],
   "source": [
    "dfcopy['country'].value_counts()"
   ]
  },
  {
   "cell_type": "code",
   "execution_count": null,
   "id": "88f49005",
   "metadata": {},
   "outputs": [],
   "source": []
  },
  {
   "cell_type": "code",
   "execution_count": null,
   "id": "1862812c",
   "metadata": {},
   "outputs": [],
   "source": []
  },
  {
   "cell_type": "code",
   "execution_count": null,
   "id": "ad568a9f",
   "metadata": {},
   "outputs": [],
   "source": []
  }
 ],
 "metadata": {
  "kernelspec": {
   "display_name": "Python 3 (ipykernel)",
   "language": "python",
   "name": "python3"
  },
  "language_info": {
   "codemirror_mode": {
    "name": "ipython",
    "version": 3
   },
   "file_extension": ".py",
   "mimetype": "text/x-python",
   "name": "python",
   "nbconvert_exporter": "python",
   "pygments_lexer": "ipython3",
   "version": "3.11.5"
  }
 },
 "nbformat": 4,
 "nbformat_minor": 5
}
