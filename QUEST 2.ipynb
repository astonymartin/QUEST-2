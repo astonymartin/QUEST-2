{
 "cells": [
  {
   "cell_type": "code",
   "execution_count": 1,
   "id": "83904bbc",
   "metadata": {},
   "outputs": [],
   "source": [
    "import pandas as pd\n",
    "import matplotlib.pyplot as plt\n",
    "import seaborn as sns\n",
    "import numpy as np\n",
    "df = pd.read_excel(\"GSAF5.xls\")\n",
    "dfcopy = df.copy()\n",
    "dfcopy.columns = dfcopy.columns.str.lower().str.replace(\" \", \"_\")"
   ]
  },
  {
   "cell_type": "code",
   "execution_count": 2,
   "id": "f581975a",
   "metadata": {},
   "outputs": [],
   "source": [
    "import warnings\n",
    "warnings.filterwarnings(\"ignore\")"
   ]
  },
  {
   "cell_type": "markdown",
   "id": "6e15330d",
   "metadata": {},
   "source": [
    "### ELIMINO COLUMNAS 21 Y 22 XQ ESTAN LLENAS DE NAN"
   ]
  },
  {
   "cell_type": "code",
   "execution_count": 3,
   "id": "736641f2",
   "metadata": {},
   "outputs": [],
   "source": [
    "dfcopy.drop(\"unnamed:_21\", axis=1, inplace=True)\n",
    "dfcopy.drop(\"unnamed:_22\", axis=1, inplace=True)\n",
    "dfcopy.drop(\"href_formula\", axis=1, inplace=True)\n",
    "dfcopy.drop(\"href\", axis=1, inplace=True)\n",
    "dfcopy.drop(\"case_number\", axis=1, inplace=True)\n",
    "dfcopy.drop(\"case_number.1\", axis=1, inplace=True)\n",
    "dfcopy.drop(\"pdf\", axis=1, inplace=True)\n"
   ]
  },
  {
   "cell_type": "markdown",
   "id": "e609b0bb",
   "metadata": {},
   "source": [
    "### CAMBIO \"NAN\" POR \"0\" Y EL TYPE DE \"FLOAT\" A \"INT\" EN YEAR"
   ]
  },
  {
   "cell_type": "code",
   "execution_count": 4,
   "id": "555ff0c6",
   "metadata": {},
   "outputs": [],
   "source": [
    "dfcopy[\"year\"].fillna(0, inplace=True)"
   ]
  },
  {
   "cell_type": "code",
   "execution_count": 5,
   "id": "c776a173",
   "metadata": {},
   "outputs": [],
   "source": [
    "dfcopy['year'] = dfcopy['year'].astype(int)"
   ]
  },
  {
   "cell_type": "markdown",
   "id": "1df02d68",
   "metadata": {},
   "source": [
    "### CAMBIO ?, NAN POR INVALID Y PASO A MINUSCULAS Y _ EN TYPE"
   ]
  },
  {
   "cell_type": "code",
   "execution_count": 6,
   "id": "87bf19e4",
   "metadata": {},
   "outputs": [],
   "source": [
    "dfcopy[\"type\"] = dfcopy[\"type\"].str.replace(\"?\", \"Invalid\")"
   ]
  },
  {
   "cell_type": "code",
   "execution_count": 7,
   "id": "c18abee5",
   "metadata": {},
   "outputs": [],
   "source": [
    "dfcopy[\"type\"].fillna(\"invalid\", inplace=True)"
   ]
  },
  {
   "cell_type": "code",
   "execution_count": 8,
   "id": "9a98a2a2",
   "metadata": {},
   "outputs": [],
   "source": [
    "dfcopy['type'] = dfcopy['type'].str.lower().str.replace(\" \", \"_\")"
   ]
  },
  {
   "cell_type": "code",
   "execution_count": 9,
   "id": "523fd022",
   "metadata": {},
   "outputs": [],
   "source": [
    "dfcopy[\"year\"].fillna(\"invalid\", inplace=True)"
   ]
  },
  {
   "cell_type": "markdown",
   "id": "ca146c19",
   "metadata": {},
   "source": [
    "### "
   ]
  },
  {
   "cell_type": "code",
   "execution_count": 10,
   "id": "84e3d379",
   "metadata": {},
   "outputs": [],
   "source": [
    "dfcopy['country'].fillna(\"no_country\", inplace=True)"
   ]
  },
  {
   "cell_type": "code",
   "execution_count": 11,
   "id": "13d1212c",
   "metadata": {},
   "outputs": [],
   "source": [
    "dfcopy['country'] = dfcopy['country'].str.lower().str.replace(\" \", \"_\")"
   ]
  },
  {
   "cell_type": "markdown",
   "id": "be5fedc0",
   "metadata": {},
   "source": [
    "### CAMBIO LOS NAN A NO_STATE CAMBIO A MINUSCULAS Y _ Y QUITO _ QUE APARECEN AL PRINCIPIO"
   ]
  },
  {
   "cell_type": "code",
   "execution_count": 12,
   "id": "88f49005",
   "metadata": {},
   "outputs": [],
   "source": [
    "dfcopy['state'].fillna(\"no_state\", inplace=True)"
   ]
  },
  {
   "cell_type": "code",
   "execution_count": 13,
   "id": "1862812c",
   "metadata": {},
   "outputs": [],
   "source": [
    "dfcopy['state'] = dfcopy['state'].str.lower().str.replace(\" \", \"_\")"
   ]
  },
  {
   "cell_type": "code",
   "execution_count": 14,
   "id": "fc4e41f5",
   "metadata": {},
   "outputs": [],
   "source": [
    "dfcopy['state'] = dfcopy['state'].str.lstrip('_')"
   ]
  },
  {
   "cell_type": "markdown",
   "id": "85df6c74",
   "metadata": {},
   "source": [
    "### SIGO LIMPIANDO COLUMNAS"
   ]
  },
  {
   "cell_type": "code",
   "execution_count": 15,
   "id": "fd600365",
   "metadata": {},
   "outputs": [],
   "source": [
    "dfcopy['location'].fillna(\"no_location\", inplace=True)"
   ]
  },
  {
   "cell_type": "code",
   "execution_count": 16,
   "id": "2189ed09",
   "metadata": {},
   "outputs": [],
   "source": [
    "dfcopy['location'] = dfcopy['location'].str.lower().str.replace(\" \", \"_\")"
   ]
  },
  {
   "cell_type": "markdown",
   "id": "e7349c12",
   "metadata": {},
   "source": [
    "### LIMPIO LA COLUMNA AGE"
   ]
  },
  {
   "cell_type": "code",
   "execution_count": 17,
   "id": "68662abe",
   "metadata": {},
   "outputs": [],
   "source": [
    "dfcopy['age'].fillna(0, inplace=True)"
   ]
  },
  {
   "cell_type": "code",
   "execution_count": 18,
   "id": "3432b70c",
   "metadata": {},
   "outputs": [],
   "source": [
    "dfcopy['age'] = dfcopy['age'].str.replace(\"30s\", \"35\").str.replace(\"20/30\", \"25\").str.replace(\"20s\", \"25\").str.replace(\"!2\", \"2\").str.replace(\"50s\", \"55\").str.replace(\"40s\", \"45\").str.replace(\"teen\", \"15\").str.replace(\"Teen\", \"15\").str.replace(\"M\", \"0\").str.replace(\"!6\", \"6\").str.replace(\"!!\", \"0\").str.replace(\"45 and 15\", \"30\").str.replace(\"28 & 22\", \"25\").str.replace(\"60s\", \"65\").str.replace(\"20's\", \"25\").str.replace(\"9 & 60\", \"35\").str.replace(\"a minor\", \"9\").str.replace(\"18 months\", \"1\").str.replace(\"28 & 26\", \"27\").str.replace(\"18 or 20\", \"19\").str.replace(\"12 or 13\", \"12\").str.replace(\"46 & 34\", \"40\").str.replace(\"23 & 30\", \"26\").str.replace(\"36 & 26\", \"31\").str.replace(\"8 or 10\", \"9\").str.replace(\"\\xa0 \", \"0\").str.replace(\"30 or 36\", \"33\").str.replace(\"6½\", \"6\").str.replace(\"21 & ?\", \"21\").str.replace(\"33 or 37\", \"35\").str.replace(\"mid-30s\", \"35\").str.replace(\"23 & 20\", \"21\").str.replace(\"7      &    31\", \"19\").str.replace(\"20?\", \"20\").str.replace(\"60's\", \"65\").str.replace(\"32 & 30\", \"31\").str.replace(\"16 to 18\", \"17\").str.replace(\"Elderly\", \"0\").str.replace(\"mid-20s\", \"25\").str.replace(\"Ca. 33\", \"33\").str.replace(\"21 or 26\", \"23\").str.replace(\">50\", \"55\").str.replace(\"18 to 22\", \"20\").str.replace(\"adult\", \"0\").str.replace(\"33 & 37\", \"35\").str.replace(\"25 or 28\", \"26\").str.replace(\"? & 27\", \"27\").str.replace(\"24 & 35\", \"29\").str.replace(\"30 & 32\", \"31\").str.replace(\"50 & 30\", \"40\").str.replace(\"17 & 35\", \"26\").str.replace(\"X\", \"0\").str.replace(\"middle-age\", \"40\").str.replace(\"13 or 18\", \"15\").str.replace(\"34 & 19\", \"27\").str.replace(\"33 & 26\", \"29\").str.replace(\"2 to 3 months\", \"0\").str.replace(\"MAKE LINE GREEN\", \"0\").str.replace(\"young\", \"17\").str.replace(\"7 or 8\", \"7\").str.replace(\"17 & 16\", \"16\").str.replace(\"F\", \"0\").str.replace(\"Both 11\", \"11\").str.replace(\"9 or 10\", \"9\").str.replace(\"36 & 23\", \"29\").str.replace(\"A.M.\", \"0\").str.replace(\"?    &   14\", \"14\").str.replace(\"10 or 12\", \"11\").str.replace(\"31 or 33\", \"32\").str.replace(\"2½\", \"2\").str.replace(\"13 or 14\", \"13\")"
   ]
  },
  {
   "cell_type": "code",
   "execution_count": 19,
   "id": "3175c4cc",
   "metadata": {},
   "outputs": [],
   "source": [
    "dfcopy['age'].fillna(0, inplace=True)"
   ]
  },
  {
   "cell_type": "code",
   "execution_count": 20,
   "id": "7c9a859c",
   "metadata": {},
   "outputs": [],
   "source": [
    "dfcopy['age'] = dfcopy['age'].astype(str)"
   ]
  },
  {
   "cell_type": "code",
   "execution_count": 21,
   "id": "fd68a254",
   "metadata": {},
   "outputs": [],
   "source": [
    "valores_no_numericos = dfcopy['age'][~dfcopy['age'].str.isnumeric()]"
   ]
  },
  {
   "cell_type": "code",
   "execution_count": 22,
   "id": "81300cdc",
   "metadata": {},
   "outputs": [],
   "source": [
    "dfcopy['age'] = dfcopy['age'].str.replace(\"15s\", \"15\").str.replace(\"22, 57, 31\", \"36\").str.replace(\"28, 26\", \"27\").str.replace(\"mid-35\", \"35\").str.replace(\"30\", \"30\").str.replace(\"28\", \"28\").str.replace(\"mid-25\", \"25\").str.replace(\"74 \", \"74\").str.replace(\"45 \", \"45\").str.replace(\"20 \", \"20\").str.replace(\"9 & 12\", \"10\").str.replace(\"? & 19\", \"19\").str.replace(\"9 months\", \"1\").str.replace(\"25 to 35\", \"30\").str.replace(\"(0)\", \"0\").str.replace(\"37, 67, 35, 27,  27\", \"38\").str.replace(\"21, 34,29\", \"28\").str.replace(\"40\", \"40\").str.replace(\"0AKE LINE GREEN\", \"0\").str.replace(\"43\", \"43\").str.replace(\"17\", \"17\").str.replace(\"A.0.\", \"0\")"
   ]
  },
  {
   "cell_type": "code",
   "execution_count": 23,
   "id": "fb12ad0d",
   "metadata": {},
   "outputs": [],
   "source": [
    "dfcopy['age'] = dfcopy['age'].str.replace('\"\"', \"\")"
   ]
  },
  {
   "cell_type": "code",
   "execution_count": 24,
   "id": "6bc03529",
   "metadata": {},
   "outputs": [],
   "source": [
    "dfcopy['age'] = dfcopy['age'].str.replace(\"23 & 26\", \"24\").str.replace('\"17\"', \"17\").str.replace('\"40\"', \"40\")"
   ]
  },
  {
   "cell_type": "code",
   "execution_count": 25,
   "id": "daa88d91",
   "metadata": {},
   "outputs": [],
   "source": [
    "dfcopy['age'] = dfcopy['age'].str.replace(\"  \", \"0\").str.replace(\" 43\", \"43\").str.replace(\" 28\", \"28\").str.replace(\" 30\", \"30\")"
   ]
  },
  {
   "cell_type": "code",
   "execution_count": 26,
   "id": "633665d3",
   "metadata": {},
   "outputs": [],
   "source": [
    "dfcopy['age'] = dfcopy['age'].str.replace(\" \", \"0\")"
   ]
  },
  {
   "cell_type": "code",
   "execution_count": 27,
   "id": "e44b3f13",
   "metadata": {},
   "outputs": [],
   "source": [
    "dfcopy['age'] = dfcopy['age'].astype(int)"
   ]
  },
  {
   "cell_type": "code",
   "execution_count": 28,
   "id": "f7756c79",
   "metadata": {},
   "outputs": [
    {
     "data": {
      "text/plain": [
       "name\n",
       "male               677\n",
       "female             135\n",
       "boy                 23\n",
       "2 males             17\n",
       "boat                14\n",
       "                  ... \n",
       "Richard Horton       1\n",
       "C.K.                 1\n",
       "John McGovern        1\n",
       "Martin Gunda         1\n",
       "Jules Patterson      1\n",
       "Name: count, Length: 5678, dtype: int64"
      ]
     },
     "execution_count": 28,
     "metadata": {},
     "output_type": "execute_result"
    }
   ],
   "source": [
    "dfcopy[\"name\"].value_counts()"
   ]
  },
  {
   "cell_type": "code",
   "execution_count": 29,
   "id": "817b3788",
   "metadata": {},
   "outputs": [],
   "source": [
    "dfcopy[\"activity\"].fillna(\"undefined\", inplace=True)"
   ]
  },
  {
   "cell_type": "code",
   "execution_count": 30,
   "id": "69fadbc7",
   "metadata": {},
   "outputs": [],
   "source": [
    "from dateutil import parser\n",
    "def convert_to_datetime(value):\n",
    "    try:\n",
    "        return parser.parse(str(value)).strftime('%H:%M')\n",
    "    except:\n",
    "        return pd.NaT\n",
    "\n",
    "dfcopy['time'] = dfcopy['time'].apply(convert_to_datetime)\n"
   ]
  },
  {
   "cell_type": "code",
   "execution_count": 31,
   "id": "d18cfcd7",
   "metadata": {},
   "outputs": [],
   "source": [
    "import datetime\n",
    "trash_words = ['Reported','Reprted','reported','before','Before','Late']\n",
    "dfcopy['date'] = dfcopy['date'].astype(str)\n",
    "dfcopy = dfcopy[~dfcopy['date'].map(lambda x: x in trash_words)]\n",
    "dfcopy['date'] = pd.to_datetime(dfcopy['date'], errors='coerce')"
   ]
  },
  {
   "cell_type": "markdown",
   "id": "406a5f5e",
   "metadata": {},
   "source": [
    "tengo un dataframe dfcopy y quiero rellenar los valores Nan que hay en la columna time con los valores que hay en la columna year dame el codigo"
   ]
  },
  {
   "cell_type": "code",
   "execution_count": 32,
   "id": "9364ac80",
   "metadata": {},
   "outputs": [],
   "source": [
    "dfcopy.drop_duplicates(keep=\"first\", inplace= True)"
   ]
  },
  {
   "cell_type": "code",
   "execution_count": 33,
   "id": "974107fe",
   "metadata": {},
   "outputs": [],
   "source": [
    "def convert_to_datetime(value):\n",
    "    try:\n",
    "        return parser.parse(str(value)).strftime('%H:%M')\n",
    "    except:\n",
    "        return pd.NaT\n",
    "dfcopy['time'] = dfcopy['time'].apply(convert_to_datetime)\n",
    "dfcopy['time'] = pd.to_datetime(dfcopy['time'], format='%H:%M', errors='coerce')"
   ]
  },
  {
   "cell_type": "code",
   "execution_count": 34,
   "id": "30d2efa7",
   "metadata": {},
   "outputs": [
    {
     "data": {
      "text/plain": [
       "array(['Michael Smith', 'male', 'Murray Adams', ..., 'A \"chiefess\"',\n",
       "       'Ahmun', 'Jules Patterson'], dtype=object)"
      ]
     },
     "execution_count": 34,
     "metadata": {},
     "output_type": "execute_result"
    }
   ],
   "source": [
    "dfcopy[\"name\"].unique()"
   ]
  },
  {
   "cell_type": "code",
   "execution_count": 35,
   "id": "9666969b",
   "metadata": {},
   "outputs": [],
   "source": [
    "dfcopy['name'].fillna(\"undefined\", inplace=True)"
   ]
  },
  {
   "cell_type": "code",
   "execution_count": 36,
   "id": "d9e480d8",
   "metadata": {},
   "outputs": [],
   "source": [
    "dfcopy.rename(columns={'unnamed:_11': 'survived'}, inplace=True)"
   ]
  },
  {
   "cell_type": "code",
   "execution_count": 37,
   "id": "1ad748b1",
   "metadata": {},
   "outputs": [],
   "source": [
    "dfcopy['survived'].fillna(\"undefined\", inplace=True)"
   ]
  },
  {
   "cell_type": "code",
   "execution_count": 38,
   "id": "e6726ccf",
   "metadata": {},
   "outputs": [
    {
     "data": {
      "text/plain": [
       "array(['N', 'Y', 'M', 'undefined', 'F', 'n', 'Nq', 'UNKNOWN', 2017,\n",
       "       'Y x 2', ' N', 'N ', 'y'], dtype=object)"
      ]
     },
     "execution_count": 38,
     "metadata": {},
     "output_type": "execute_result"
    }
   ],
   "source": [
    "dfcopy['survived'].unique()"
   ]
  },
  {
   "cell_type": "code",
   "execution_count": 39,
   "id": "6989696a",
   "metadata": {},
   "outputs": [],
   "source": [
    "map_function = lambda x: \"yes\" if str(x).strip().lower() == 'y' else (\"no\" if str(x).strip().lower() == 'n' else \"undefined\")\n",
    "dfcopy[\"survived\"] = dfcopy[\"survived\"].map(map_function)"
   ]
  },
  {
   "cell_type": "code",
   "execution_count": 40,
   "id": "68825020",
   "metadata": {},
   "outputs": [],
   "source": [
    "dfcopy.rename(columns={'species_': 'species'}, inplace=True)"
   ]
  },
  {
   "cell_type": "code",
   "execution_count": 41,
   "id": "0504987c",
   "metadata": {
    "scrolled": true
   },
   "outputs": [
    {
     "data": {
      "text/plain": [
       "array(['M', 'F', nan, ' M', 'M ', 'lli', 'M x 2', 'N', '.'], dtype=object)"
      ]
     },
     "execution_count": 41,
     "metadata": {},
     "output_type": "execute_result"
    }
   ],
   "source": [
    "dfcopy[\"sex\"].unique()"
   ]
  },
  {
   "cell_type": "code",
   "execution_count": 42,
   "id": "709dd1cc",
   "metadata": {},
   "outputs": [],
   "source": [
    "dfcopy[\"species\"].fillna(\"undefined\", inplace=True)"
   ]
  },
  {
   "cell_type": "code",
   "execution_count": 43,
   "id": "e43328b2",
   "metadata": {},
   "outputs": [],
   "source": [
    "dfcopy[\"source\"].fillna(\"undefined\", inplace=True)"
   ]
  },
  {
   "cell_type": "code",
   "execution_count": 44,
   "id": "f4c9eafe",
   "metadata": {},
   "outputs": [],
   "source": [
    "dfcopy[\"injury\"].fillna(\"undefined\", inplace=True)"
   ]
  },
  {
   "cell_type": "code",
   "execution_count": 45,
   "id": "5d2ff845",
   "metadata": {},
   "outputs": [],
   "source": [
    "map_function = lambda x: \"male\" if str(x).strip().lower() == 'm' else (\"female\" if str(x).strip().lower() == 'f' else \"undefined\")\n",
    "dfcopy[\"sex\"] = dfcopy[\"sex\"].map(map_function)"
   ]
  },
  {
   "cell_type": "code",
   "execution_count": 46,
   "id": "8922f394",
   "metadata": {},
   "outputs": [],
   "source": [
    "dfcopy[\"original_order\"].fillna(0, inplace=True)"
   ]
  },
  {
   "cell_type": "code",
   "execution_count": 47,
   "id": "37075fd0",
   "metadata": {
    "scrolled": false
   },
   "outputs": [
    {
     "name": "stdout",
     "output_type": "stream",
     "text": [
      "<class 'pandas.core.frame.DataFrame'>\n",
      "Index: 6935 entries, 0 to 6934\n",
      "Data columns (total 16 columns):\n",
      " #   Column          Non-Null Count  Dtype         \n",
      "---  ------          --------------  -----         \n",
      " 0   date            6054 non-null   datetime64[ns]\n",
      " 1   year            6935 non-null   int32         \n",
      " 2   type            6935 non-null   object        \n",
      " 3   country         6935 non-null   object        \n",
      " 4   state           6935 non-null   object        \n",
      " 5   location        6935 non-null   object        \n",
      " 6   activity        6935 non-null   object        \n",
      " 7   name            6935 non-null   object        \n",
      " 8   sex             6935 non-null   object        \n",
      " 9   age             6935 non-null   int32         \n",
      " 10  injury          6935 non-null   object        \n",
      " 11  survived        6935 non-null   object        \n",
      " 12  time            2722 non-null   datetime64[ns]\n",
      " 13  species         6935 non-null   object        \n",
      " 14  source          6935 non-null   object        \n",
      " 15  original_order  6935 non-null   float64       \n",
      "dtypes: datetime64[ns](2), float64(1), int32(2), object(11)\n",
      "memory usage: 866.9+ KB\n"
     ]
    }
   ],
   "source": [
    "dfcopy.info()"
   ]
  },
  {
   "cell_type": "markdown",
   "id": "f442b090",
   "metadata": {},
   "source": [
    "### hasta aqui he limpiado los datos\n"
   ]
  },
  {
   "cell_type": "code",
   "execution_count": 48,
   "id": "6e655c9e",
   "metadata": {},
   "outputs": [],
   "source": [
    "dfa = dfcopy[dfcopy['age'] != 0].groupby(\"country\")[\"age\"].mean().sort_values()"
   ]
  },
  {
   "cell_type": "code",
   "execution_count": 49,
   "id": "002d92c9",
   "metadata": {},
   "outputs": [
    {
     "data": {
      "text/plain": [
       "country\n",
       "grenada                   14.250000\n",
       "iraq                      14.666667\n",
       "cyprus                    15.000000\n",
       "ceylon_(sri_lanka)        15.000000\n",
       "north_atlantic_ocean_     15.000000\n",
       "                            ...    \n",
       "azores                    49.000000\n",
       "france                    50.000000\n",
       "british_virgin_islands    53.000000\n",
       "st._maartin               55.000000\n",
       "grand_cayman              57.000000\n",
       "Name: age, Length: 110, dtype: float64"
      ]
     },
     "execution_count": 49,
     "metadata": {},
     "output_type": "execute_result"
    }
   ],
   "source": [
    "dfa.reset_index()\n",
    "dfa"
   ]
  },
  {
   "cell_type": "code",
   "execution_count": 73,
   "id": "0abf42c7",
   "metadata": {},
   "outputs": [
    {
     "data": {
      "image/png": "[encoded data removed]",
      "text/plain": [
       "<Figure size 1500x600 with 1 Axes>"
      ]
     },
     "metadata": {},
     "output_type": "display_data"
    }
   ],
   "source": [
    "import pandas as pd\n",
    "import seaborn as sns\n",
    "import matplotlib.pyplot as plt\n",
    "df_pivot2 = pd.pivot_table(dfcopy[dfcopy['age'] != 0], values='age', index=('sex', 'country'), aggfunc=('mean', 'max', 'min'))\n",
    "df_pivot2_reset = df_pivot2.reset_index()\n",
    "fig, ax = plt.subplots(figsize=(15, 6))\n",
    "sns.barplot(x='country', y='mean', data=df_pivot2_reset, palette='inferno')\n",
    "ax.set_xticklabels([])\n",
    "plt.title('Media de Edad por País y Sexo')\n",
    "plt.xlabel('País')\n",
    "plt.ylabel('Edad Media')\n",
    "plt.show()\n"
   ]
  },
  {
   "cell_type": "code",
   "execution_count": 55,
   "id": "3bc3fb17",
   "metadata": {},
   "outputs": [
    {
     "data": {
      "text/html": [
       "<div>\n",
       "<style scoped>\n",
       "    .dataframe tbody tr th:only-of-type {\n",
       "        vertical-align: middle;\n",
       "    }\n",
       "\n",
       "    .dataframe tbody tr th {\n",
       "        vertical-align: top;\n",
       "    }\n",
       "\n",
       "    .dataframe thead th {\n",
       "        text-align: right;\n",
       "    }\n",
       "</style>\n",
       "<table border=\"1\" class=\"dataframe\">\n",
       "  <thead>\n",
       "    <tr style=\"text-align: right;\">\n",
       "      <th></th>\n",
       "      <th></th>\n",
       "      <th>max</th>\n",
       "      <th>mean</th>\n",
       "      <th>min</th>\n",
       "    </tr>\n",
       "    <tr>\n",
       "      <th>sex</th>\n",
       "      <th>country</th>\n",
       "      <th></th>\n",
       "      <th></th>\n",
       "      <th></th>\n",
       "    </tr>\n",
       "  </thead>\n",
       "  <tbody>\n",
       "    <tr>\n",
       "      <th rowspan=\"5\" valign=\"top\">female</th>\n",
       "      <th>atlantic_ocean</th>\n",
       "      <td>27</td>\n",
       "      <td>14.000000</td>\n",
       "      <td>1</td>\n",
       "    </tr>\n",
       "    <tr>\n",
       "      <th>australia</th>\n",
       "      <td>64</td>\n",
       "      <td>27.186047</td>\n",
       "      <td>2</td>\n",
       "    </tr>\n",
       "    <tr>\n",
       "      <th>bahamas</th>\n",
       "      <td>73</td>\n",
       "      <td>39.700000</td>\n",
       "      <td>20</td>\n",
       "    </tr>\n",
       "    <tr>\n",
       "      <th>belize</th>\n",
       "      <td>8</td>\n",
       "      <td>8.000000</td>\n",
       "      <td>8</td>\n",
       "    </tr>\n",
       "    <tr>\n",
       "      <th>bermuda</th>\n",
       "      <td>29</td>\n",
       "      <td>24.000000</td>\n",
       "      <td>19</td>\n",
       "    </tr>\n",
       "    <tr>\n",
       "      <th>...</th>\n",
       "      <th>...</th>\n",
       "      <td>...</td>\n",
       "      <td>...</td>\n",
       "      <td>...</td>\n",
       "    </tr>\n",
       "    <tr>\n",
       "      <th rowspan=\"5\" valign=\"top\">undefined</th>\n",
       "      <th>pacific_ocean</th>\n",
       "      <td>3</td>\n",
       "      <td>3.000000</td>\n",
       "      <td>3</td>\n",
       "    </tr>\n",
       "    <tr>\n",
       "      <th>papua_new_guinea</th>\n",
       "      <td>14</td>\n",
       "      <td>13.500000</td>\n",
       "      <td>13</td>\n",
       "    </tr>\n",
       "    <tr>\n",
       "      <th>south_africa</th>\n",
       "      <td>31</td>\n",
       "      <td>31.000000</td>\n",
       "      <td>31</td>\n",
       "    </tr>\n",
       "    <tr>\n",
       "      <th>thailand</th>\n",
       "      <td>28</td>\n",
       "      <td>28.000000</td>\n",
       "      <td>28</td>\n",
       "    </tr>\n",
       "    <tr>\n",
       "      <th>usa</th>\n",
       "      <td>36</td>\n",
       "      <td>17.125000</td>\n",
       "      <td>9</td>\n",
       "    </tr>\n",
       "  </tbody>\n",
       "</table>\n",
       "<p>154 rows × 3 columns</p>\n",
       "</div>"
      ],
      "text/plain": [
       "                            max       mean  min\n",
       "sex       country                              \n",
       "female    atlantic_ocean     27  14.000000    1\n",
       "          australia          64  27.186047    2\n",
       "          bahamas            73  39.700000   20\n",
       "          belize              8   8.000000    8\n",
       "          bermuda            29  24.000000   19\n",
       "...                         ...        ...  ...\n",
       "undefined pacific_ocean       3   3.000000    3\n",
       "          papua_new_guinea   14  13.500000   13\n",
       "          south_africa       31  31.000000   31\n",
       "          thailand           28  28.000000   28\n",
       "          usa                36  17.125000    9\n",
       "\n",
       "[154 rows x 3 columns]"
      ]
     },
     "execution_count": 55,
     "metadata": {},
     "output_type": "execute_result"
    }
   ],
   "source": [
    "df_pivot2 = pd.pivot_table(dfcopy[dfcopy['age'] != 0], values='age', index=('sex', 'country'), aggfunc=('mean', 'max', 'min'))\n",
    "df_pivot2"
   ]
  },
  {
   "cell_type": "code",
   "execution_count": 52,
   "id": "726f5f15",
   "metadata": {},
   "outputs": [
    {
     "data": {
      "text/html": [
       "<div>\n",
       "<style scoped>\n",
       "    .dataframe tbody tr th:only-of-type {\n",
       "        vertical-align: middle;\n",
       "    }\n",
       "\n",
       "    .dataframe tbody tr th {\n",
       "        vertical-align: top;\n",
       "    }\n",
       "\n",
       "    .dataframe thead th {\n",
       "        text-align: right;\n",
       "    }\n",
       "</style>\n",
       "<table border=\"1\" class=\"dataframe\">\n",
       "  <thead>\n",
       "    <tr style=\"text-align: right;\">\n",
       "      <th></th>\n",
       "      <th></th>\n",
       "      <th>count</th>\n",
       "      <th>max</th>\n",
       "      <th>mean</th>\n",
       "      <th>min</th>\n",
       "    </tr>\n",
       "    <tr>\n",
       "      <th>sex</th>\n",
       "      <th>country</th>\n",
       "      <th></th>\n",
       "      <th></th>\n",
       "      <th></th>\n",
       "      <th></th>\n",
       "    </tr>\n",
       "  </thead>\n",
       "  <tbody>\n",
       "    <tr>\n",
       "      <th rowspan=\"2\" valign=\"top\">female</th>\n",
       "      <th>australia</th>\n",
       "      <td>43</td>\n",
       "      <td>64</td>\n",
       "      <td>27.186047</td>\n",
       "      <td>2</td>\n",
       "    </tr>\n",
       "    <tr>\n",
       "      <th>usa</th>\n",
       "      <td>176</td>\n",
       "      <td>77</td>\n",
       "      <td>26.221591</td>\n",
       "      <td>2</td>\n",
       "    </tr>\n",
       "    <tr>\n",
       "      <th rowspan=\"7\" valign=\"top\">male</th>\n",
       "      <th>australia</th>\n",
       "      <td>347</td>\n",
       "      <td>78</td>\n",
       "      <td>28.809798</td>\n",
       "      <td>5</td>\n",
       "    </tr>\n",
       "    <tr>\n",
       "      <th>bahamas</th>\n",
       "      <td>35</td>\n",
       "      <td>77</td>\n",
       "      <td>36.971429</td>\n",
       "      <td>10</td>\n",
       "    </tr>\n",
       "    <tr>\n",
       "      <th>brazil</th>\n",
       "      <td>38</td>\n",
       "      <td>43</td>\n",
       "      <td>22.947368</td>\n",
       "      <td>12</td>\n",
       "    </tr>\n",
       "    <tr>\n",
       "      <th>mexico</th>\n",
       "      <td>30</td>\n",
       "      <td>66</td>\n",
       "      <td>32.366667</td>\n",
       "      <td>10</td>\n",
       "    </tr>\n",
       "    <tr>\n",
       "      <th>reunion</th>\n",
       "      <td>26</td>\n",
       "      <td>52</td>\n",
       "      <td>30.384615</td>\n",
       "      <td>13</td>\n",
       "    </tr>\n",
       "    <tr>\n",
       "      <th>south_africa</th>\n",
       "      <td>101</td>\n",
       "      <td>74</td>\n",
       "      <td>29.128713</td>\n",
       "      <td>13</td>\n",
       "    </tr>\n",
       "    <tr>\n",
       "      <th>usa</th>\n",
       "      <td>721</td>\n",
       "      <td>87</td>\n",
       "      <td>27.421637</td>\n",
       "      <td>3</td>\n",
       "    </tr>\n",
       "  </tbody>\n",
       "</table>\n",
       "</div>"
      ],
      "text/plain": [
       "                     count  max       mean  min\n",
       "sex    country                                 \n",
       "female australia        43   64  27.186047    2\n",
       "       usa             176   77  26.221591    2\n",
       "male   australia       347   78  28.809798    5\n",
       "       bahamas          35   77  36.971429   10\n",
       "       brazil           38   43  22.947368   12\n",
       "       mexico           30   66  32.366667   10\n",
       "       reunion          26   52  30.384615   13\n",
       "       south_africa    101   74  29.128713   13\n",
       "       usa             721   87  27.421637    3"
      ]
     },
     "execution_count": 52,
     "metadata": {},
     "output_type": "execute_result"
    }
   ],
   "source": [
    "df_pivot = pd.pivot_table(dfcopy[dfcopy['age'] != 0], values='age', index=('sex', 'country'), aggfunc=('mean', 'count', 'max', 'min'))\n",
    "df_pivot_filtered = df_pivot[df_pivot['count'] > 25]\n",
    "df_pivot_filtered"
   ]
  },
  {
   "cell_type": "code",
   "execution_count": 77,
   "id": "de44ed4a",
   "metadata": {},
   "outputs": [
    {
     "data": {
      "image/png": "[encoded data removed]",
      "text/plain": [
       "<Figure size 1000x600 with 1 Axes>"
      ]
     },
     "metadata": {},
     "output_type": "display_data"
    }
   ],
   "source": [
    "df_pivot = pd.pivot_table(dfcopy[dfcopy['age'] != 0], values='age', index=('sex', 'country'), aggfunc=('mean', 'count', 'max', 'min'))\n",
    "df_pivot_filtered = df_pivot[df_pivot['count'] > 25]\n",
    "df_pivot_filtered_reset = df_pivot_filtered.reset_index()\n",
    "fig, ax = plt.subplots(figsize=(10, 6))\n",
    "sns.barplot(x='country', y='mean', data=df_pivot_filtered_reset, palette='magma')\n",
    "plt.title('Media de Edad por País (Paises > 25)')\n",
    "plt.xlabel('País')\n",
    "plt.ylabel('Edad Media')\n",
    "plt.show()\n"
   ]
  },
  {
   "cell_type": "code",
   "execution_count": 53,
   "id": "facd41b8",
   "metadata": {},
   "outputs": [
    {
     "data": {
      "image/png": "[encoded data removed]",
      "text/plain": [
       "<Figure size 640x480 with 1 Axes>"
      ]
     },
     "metadata": {},
     "output_type": "display_data"
    }
   ],
   "source": [
    "import pandas as pd\n",
    "import matplotlib.pyplot as plt\n",
    "\n",
    "\n",
    "# Crear un gráfico de barras apiladas para la media y suma de 'age' por sexo y país\n",
    "df_pivot_filtered.plot(kind='bar', stacked=True, title='Media y Suma de Edad por Sexo y País')\n",
    "plt.ylabel('Edad')\n",
    "plt.xlabel('Sexo y País')\n",
    "plt.show()\n"
   ]
  },
  {
   "cell_type": "code",
   "execution_count": null,
   "id": "b0a532f1",
   "metadata": {},
   "outputs": [],
   "source": []
  },
  {
   "cell_type": "code",
   "execution_count": null,
   "id": "ce63a375",
   "metadata": {},
   "outputs": [],
   "source": []
  },
  {
   "cell_type": "code",
   "execution_count": null,
   "id": "735516c5",
   "metadata": {},
   "outputs": [],
   "source": []
  },
  {
   "cell_type": "code",
   "execution_count": null,
   "id": "86bef989",
   "metadata": {},
   "outputs": [],
   "source": []
  },
  {
   "cell_type": "code",
   "execution_count": null,
   "id": "2d5aa4ce",
   "metadata": {},
   "outputs": [],
   "source": []
  }
 ],
 "metadata": {
  "kernelspec": {
   "display_name": "Python 3 (ipykernel)",
   "language": "python",
   "name": "python3"
  },
  "language_info": {
   "codemirror_mode": {
    "name": "ipython",
    "version": 3
   },
   "file_extension": ".py",
   "mimetype": "text/x-python",
   "name": "python",
   "nbconvert_exporter": "python",
   "pygments_lexer": "ipython3",
   "version": "3.11.5"
  }
 },
 "nbformat": 4,
 "nbformat_minor": 5
}
